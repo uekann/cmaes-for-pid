{
 "cells": [
  {
   "cell_type": "code",
   "execution_count": 1,
   "metadata": {},
   "outputs": [],
   "source": [
    "%matplotlib inline"
   ]
  },
  {
   "cell_type": "code",
   "execution_count": 2,
   "metadata": {},
   "outputs": [],
   "source": [
    "import numpy as np\n",
    "from matplotlib import pyplot as plt\n",
    "import pandas as pd"
   ]
  },
  {
   "cell_type": "code",
   "execution_count": 4,
   "metadata": {},
   "outputs": [],
   "source": [
    "import lib.cmaes\n",
    "import lib.riversi\n",
    "\n",
    "import importlib\n",
    "importlib.reload(lib.cmaes)\n",
    "importlib.reload(lib.riversi)\n",
    "\n",
    "from lib.cmaes import CMAES\n",
    "from lib.riversi import RiversiBoard, GameEnv, RandomEnemy"
   ]
  },
  {
   "cell_type": "code",
   "execution_count": 7,
   "metadata": {},
   "outputs": [],
   "source": [
    "from copy import deepcopy\n",
    "\n",
    "\n",
    "def evaluate(x:np.ndarray):\n",
    "    score = 0\n",
    "    for i in range(100):\n",
    "        if i%2:\n",
    "            color = RiversiBoard.BLACK\n",
    "        else:\n",
    "            color = RiversiBoard.WHITE\n",
    "        \n",
    "        \n",
    "        game = GameEnv(RandomEnemy(RiversiBoard.turn_color(color=color)), color)\n",
    "        \n",
    "        while True:\n",
    "            mb, yb, fin = game.get_env()\n",
    "            if fin: break\n",
    "            now = RiversiBoard(mb, yb)\n",
    "            \n",
    "            max_e = -float(\"inf\")\n",
    "            best_p = (-1, -1)\n",
    "            for p in now.get_places_to_put(RiversiBoard.BLACK):\n",
    "                new_bd = RiversiBoard(mb, yb)\n",
    "                new_bd.put(RiversiBoard.BLACK, p)\n",
    "                env_vec = np.zeros(128, np.int32)\n",
    "                env_vec[:64] = new_bd[RiversiBoard.BLACK].to_ndarray().flatten()\n",
    "                env_vec[64:] = new_bd[RiversiBoard.WHITE].to_ndarray().flatten()\n",
    "                e = np.dot(env_vec, x)\n",
    "                if e > max_e:\n",
    "                    best_p = p\n",
    "                    max_e = e\n",
    "            \n",
    "            game.put(best_p)\n",
    "        \n",
    "        score += game.score()\n",
    "    \n",
    "    return -score/100\n",
    "        \n",
    "            "
   ]
  },
  {
   "cell_type": "code",
   "execution_count": 8,
   "metadata": {},
   "outputs": [
    {
     "name": "stdout",
     "output_type": "stream",
     "text": [
      "[ 268.92768139   26.26407246   31.77580065   88.17868093  164.39896441\n",
      "   91.34596702   64.86840203  181.1147931     3.46997667 -230.33786711\n",
      "   28.7842907  -180.43307679   55.85176328  114.10893038   87.6754242\n",
      "   78.12123275  -44.39785472  -20.82436045   70.14510524  123.02411493\n",
      "  102.22337311  228.70468891  114.62661501   45.13108373   44.79520061\n",
      "  294.00882275  -22.32708573   78.79113947 -297.09110668  188.50675418\n",
      " -204.45760666  111.19636422  124.17804957   66.75950344  -13.21272993\n",
      "  187.10123711 -165.55457236 -199.55299911   38.79858937  -40.92831817\n",
      "   32.89156199 -106.86420988   96.41783579 -148.20069006  -84.47387719\n",
      " -122.21018819  -68.96321954  -45.17421204  135.43691664 -155.49444774\n",
      "  339.34458073   32.91641773 -162.02769111 -178.75897972  -12.17396421\n",
      "  -45.13113457  488.90861691 -393.71498478   -7.92587573   98.01514511\n",
      "    2.25466289   74.95698509   36.87865406   36.25293306 -105.20515256\n",
      " -153.42452794  -79.87175877  -95.5814908    25.7946805   101.99080409\n",
      "   99.60696117 -259.04578456  -71.27482362 -219.36865068   77.78630177\n",
      "   43.64088168   70.98846099  286.36015464  209.38086199   68.56054695\n",
      "  -79.56676532    7.61281216   34.38024544 -143.51402159    2.36143955\n",
      " -262.81262758  149.90437325 -235.00419953  -61.0679144    59.69474642\n",
      "   53.67641535  -22.96756595 -131.70164545 -148.09778798 -150.40925997\n",
      " -167.9270062   -45.47159153 -160.09026394 -360.84648726   90.87900475\n",
      "  212.8684934   -39.36818042   91.10408612   -7.64820775 -201.40068411\n",
      "   40.23222723    5.30972596  232.3081542   144.76343931  305.35978157\n",
      "  115.69493837  199.51995341    5.32454452  -81.77166883   73.25095393\n",
      "   43.75646232   51.52127403    5.13619659  -74.15769154 -215.92897618\n",
      "  164.49961959 -146.41067302 -106.69152139  130.27995509    3.02663875\n",
      "  247.551473   -204.92061189 -250.7892391 ]\n"
     ]
    }
   ],
   "source": [
    "es = CMAES(func=evaluate,\\\n",
    "            init_mean=np.zeros(128),\\\n",
    "            init_sigma=10,\\\n",
    "            nsample=10)\n",
    "\n",
    "mean = np.zeros(500, dtype=np.float64)\n",
    "\n",
    "for i in range(500):\n",
    "    es.sample()\n",
    "    es.evaluate()\n",
    "    es.update_param()\n",
    "    mean[i] = es.func(es.mean)\n",
    "    if np.all(es.sigma*np.sqrt(es.D) < 1e-10):\n",
    "        break\n",
    "\n",
    "print(es.mean)"
   ]
  },
  {
   "cell_type": "code",
   "execution_count": 9,
   "metadata": {},
   "outputs": [
    {
     "data": {
      "text/plain": [
       "[<matplotlib.lines.Line2D at 0x123eee910>]"
      ]
     },
     "execution_count": 9,
     "metadata": {},
     "output_type": "execute_result"
    },
    {
     "data": {
      "image/png": "[encoded data removed]",
      "text/plain": [
       "<Figure size 432x288 with 1 Axes>"
      ]
     },
     "metadata": {
      "needs_background": "light"
     },
     "output_type": "display_data"
    }
   ],
   "source": [
    "# plt.semilogy(mean)\n",
    "plt.plot(mean)"
   ]
  },
  {
   "cell_type": "code",
   "execution_count": 10,
   "metadata": {},
   "outputs": [],
   "source": [
    "df = pd.DataFrame([es.mean])\n",
    "df.to_csv(\"./model/learn_data.csv\")"
   ]
  }
 ],
 "metadata": {
  "kernelspec": {
   "display_name": "Python 3.9.13 ('python39')",
   "language": "python",
   "name": "python3"
  },
  "language_info": {
   "codemirror_mode": {
    "name": "ipython",
    "version": 3
   },
   "file_extension": ".py",
   "mimetype": "text/x-python",
   "name": "python",
   "nbconvert_exporter": "python",
   "pygments_lexer": "ipython3",
   "version": "3.9.13"
  },
  "orig_nbformat": 4,
  "vscode": {
   "interpreter": {
    "hash": "f87905f886dbd640e1ce3782bb8a4825cd0bddbc0d1faee294a00c84a3f872d7"
   }
  }
 },
 "nbformat": 4,
 "nbformat_minor": 2
}
